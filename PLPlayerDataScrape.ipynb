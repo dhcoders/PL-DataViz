{
 "cells": [
  {
   "cell_type": "code",
   "execution_count": 1,
   "metadata": {},
   "outputs": [],
   "source": [
    "import pandas as pd\n",
    "from bs4 import BeautifulSoup\n",
    "import requests"
   ]
  },
  {
   "cell_type": "code",
   "execution_count": 15,
   "metadata": {},
   "outputs": [],
   "source": [
    "#This code checks for a valid response from the target website (200).\n",
    "url = 'https://fbref.com/en/comps/Big5/gca/players/Big-5-European-Leagues-Stats'\n",
    "response = requests.get(url)\n",
    "\n",
    "if response.status_code == 200:\n",
    "    html = response.text\n",
    "else:\n",
    "    print('Error, Status Code ', response.status_code)"
   ]
  },
  {
   "cell_type": "code",
   "execution_count": 34,
   "metadata": {},
   "outputs": [
    {
     "name": "stderr",
     "output_type": "stream",
     "text": [
      "C:\\Users\\Darcy Cox\\AppData\\Local\\Temp\\ipykernel_29816\\3703330052.py:12: FutureWarning: Passing literal html to 'read_html' is deprecated and will be removed in a future version. To read from a literal string, wrap it in a 'StringIO' object.\n",
      "  tables = pd.read_html(driver.page_source, header=1)[2]\n"
     ]
    }
   ],
   "source": [
    "#This code imports the Selenium library and the chrome based webdriver\n",
    "from selenium import webdriver\n",
    "from selenium.webdriver.chrome.service import Service\n",
    "\n",
    "#This specifies the path to the ChromeDriver executable\n",
    "service = Service(executable_path='E:\\\\Coding\\\\WebScrapingPractice\\\\PLStatAnalysis\\\\chromedriver.exe')\n",
    "#Initializes the Chrome WebDriver with the specified service\n",
    "driver = webdriver.Chrome(service=service)\n",
    "\n",
    "driver.get('https://fbref.com/en/comps/9/possession/Premier-League-Stats') #specify the webpage to scrape so the driver can get it.\n",
    "\n",
    "tables = pd.read_html(driver.page_source, header=1)[2] #Use pandas to read the html and save the required data to the tables variable.\n",
    "driver.quit()"
   ]
  },
  {
   "cell_type": "code",
   "execution_count": 37,
   "metadata": {},
   "outputs": [],
   "source": [
    "#Using Pandas to clean the data for inserting to the SQL database.\n",
    "df1 = tables.drop('Rk', axis=1) #removes irrelevant matches/rank columns\n",
    "df2 =  df1.drop('Matches', axis=1)\n",
    "cleandf = df2[df2['Player'] != 'Player'] #Removes players who are listed twice in the data.\n",
    "\n",
    "\n",
    "cleandf.to_csv('PLPossStats.csv', index=False) #Export as CSV to import into PostgreSQL."
   ]
  },
  {
   "cell_type": "code",
   "execution_count": null,
   "metadata": {},
   "outputs": [],
   "source": []
  }
 ],
 "metadata": {
  "kernelspec": {
   "display_name": "Python 3",
   "language": "python",
   "name": "python3"
  },
  "language_info": {
   "codemirror_mode": {
    "name": "ipython",
    "version": 3
   },
   "file_extension": ".py",
   "mimetype": "text/x-python",
   "name": "python",
   "nbconvert_exporter": "python",
   "pygments_lexer": "ipython3",
   "version": "3.12.0"
  }
 },
 "nbformat": 4,
 "nbformat_minor": 2
}
